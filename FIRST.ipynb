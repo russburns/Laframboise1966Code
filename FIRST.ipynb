{
  "nbformat": 4,
  "nbformat_minor": 0,
  "metadata": {
    "colab": {
      "provenance": [],
      "authorship_tag": "ABX9TyPAsRj5CTiS0wd07Rx4i7PJ",
      "include_colab_link": true
    },
    "kernelspec": {
      "name": "python3",
      "display_name": "Python 3"
    },
    "language_info": {
      "name": "python"
    }
  },
  "cells": [
    {
      "cell_type": "markdown",
      "metadata": {
        "id": "view-in-github",
        "colab_type": "text"
      },
      "source": [
        "<a href=\"https://colab.research.google.com/github/russburns/Laframboise1966Code/blob/main/FIRST.ipynb\" target=\"_parent\"><img src=\"https://colab.research.google.com/assets/colab-badge.svg\" alt=\"Open In Colab\"/></a>"
      ]
    },
    {
      "cell_type": "code",
      "execution_count": null,
      "metadata": {
        "id": "YG5aNP3Qn1-4"
      },
      "outputs": [],
      "source": [
        "        SUBROUTINE FIRST\n",
        "\n",
        "C       THIS SUBROUTINE COMPUTES CHARGE DENSITY RHO(1-MP) AND COLLECTED\n",
        "C       CURRENT YST, FOR A CYLINDRICAL PROBE, UNDER THE FOLLOWING\n",
        "C       CONDITIONS\n",
        "C       LOCUS OF EXTREMA ENTERS FIRST QUADRANT BY CROSSING OMEGA AXIS, AND\n",
        "C       DOES NOT CROSS ITSELF IN THIS QUADRANT. LINK = 1 OR 2\n",
        "\n",
        "        DIMENSION X(401),XSQ(401),S(401),DXDS(401),ROP(401),SCOT(401),\n",
        "    1       COOK(401),XI(401),DXIDS(401),ETA(401),ETAPS(401),ETANG(401),\n",
        "    2       RHO(401),OMGAG(401),BETAG(401),ALFAG(401),PSIG(401),EPSG(401),\n",
        "    3       Y(401),Z(401),SH(401)\n",
        "        COMMON X,XSQ,S,DXDX,ROP,SCOT,COOK,XI,DXIDS,ETA,ETAPS,ETANG,RHO,\n",
        "    1       OMGAG,BETAG,ALFAG,PSIG,EPSG,Y,Z,SH\n",
        "        COMMON PI,SQTPI,VIPI,SAY,MODE,M,MP,DELTS,GAMMA,PI3,PI6,PI7,YPOS,\n",
        "    1       YNEG,NPRINT,KT1,KT2,LL,KEND\n",
        "        COMMON LINK,BETH,EXY,EDY,N2,N22,NW,SW,SWA,BETAW,BETAWA,MACK,MIKE,\n",
        "    1       SCRIT,SCRITA,LK,LKA,CRISS,CROSS,YST,AMU,THETA,KBD\n",
        "        GO TO (72,171), MODE\n",
        "    72  WRITE OUTPUT TAPE 6,73\n",
        "    73  FORMAT(49H0 WRONG SUBROUTINES BEING USED. EXECUTION DELETED )\n",
        "        CALL EXIT\n",
        "    171 N1=LINK\n",
        "        ECY=EXY/PI\n",
        "        DO 560 L=1,MP\n",
        "        LL=L\n",
        "        RHO(L)=-DYO(BETH,ECY)+TRY(0.0)\n",
        "        IF(S(L)-SH(1))552,554,554\n",
        "\n",
        "    552 RHO(L)=RHO(L)+CAL(1,SH(1).SW,2,N2)\n",
        "        IF(S(L)-SCRIT)551,553,553\n",
        "    551 RHO(L)=RHO(L)+2.0*CAL(1,SH(L),SH(1),3,2)-TRY(BETAW)+Z(L)\n",
        "        GO TO 560\n",
        "    553 RHO(L)=RHO(L)+2.0*CAL(1,S(L),SH(1),1,2)-TRY(BETAW)+Z(L)\n",
        "    1   -TRY(BETAW)+Z(L)\n",
        "        GO TO 560\n",
        "\n",
        "    554 IF(S(L)-SW)555,555,556\n",
        "    555 RHO(L)=RHO(L)-CAL(1,SH(1),S(L),N1,1)+CAL(1,S(L),SW,1,N2)\n",
        "    1   -TRY(BETAW)+Z(L)\n",
        "        GO TO 560\n",
        "\n",
        "    556 RHO(L)=RHO(L)-CAL(1,SH(1),SW,N1,2)+TRY(BETAW)\n",
        "        IF(L-LK)570,570,542\n",
        "    542 IF(S(L)-SWA)543,570,570\n",
        "    570 GO TO (572,573),KBD\n",
        "    572 IF(L-MP)571,560,560\n",
        "    571 RHO(L)=RHO(L)+EXPF(-XI(L)/i1.0-XSQ(L)/XSQ(MP))\n",
        "        GO TO 560\n",
        "    573 RHO(L)=RHO(L)+1.0\n",
        "        GO TO 560\n",
        "\n",
        "    543 RHO(L)=RHO(L)-2.0*TRY(BETAWA)+Z(L)\n",
        "        IF(S(L)-SCRITA)544,545,545\n",
        "    544 RHO(L)=RHO(L)+2.0*CAL(1,SH(L),SWA,3,N22)\n",
        "        GO TO 560\n",
        "    545 RHO(L)=RHO(L)+2.0*CAL(1,S(L),SWA,1,N22)\n",
        "\n",
        "    560 CONTINUE\n",
        "\n",
        "        RH=SQRTF(BETH-XI(1))\n",
        "        YST=2.0*EDY*(RH+COEFT(RH))+CAL(2,SH(1),SW,N1,N2)\n",
        "        GO TO (575,576),KBD\n",
        "    575 RW=SQRTF(BETAW)\n",
        "        YST=YST+(1.0-2.0*EXPF(-BETAW)*SAY*(RW+COEFT(RW)))/X(MP)\n",
        "    576 RETURN\n",
        "        END"
      ]
    }
  ]
}