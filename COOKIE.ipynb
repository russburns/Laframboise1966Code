{
  "nbformat": 4,
  "nbformat_minor": 0,
  "metadata": {
    "colab": {
      "provenance": [],
      "authorship_tag": "ABX9TyM0HjkvY4E3eg344SEJPhMJ",
      "include_colab_link": true
    },
    "kernelspec": {
      "name": "python3",
      "display_name": "Python 3"
    },
    "language_info": {
      "name": "python"
    }
  },
  "cells": [
    {
      "cell_type": "markdown",
      "metadata": {
        "id": "view-in-github",
        "colab_type": "text"
      },
      "source": [
        "<a href=\"https://colab.research.google.com/github/russburns/Laframboise1966Code/blob/main/COOKIE.ipynb\" target=\"_parent\"><img src=\"https://colab.research.google.com/assets/colab-badge.svg\" alt=\"Open In Colab\"/></a>"
      ]
    },
    {
      "cell_type": "code",
      "execution_count": null,
      "metadata": {
        "id": "-90bViaNm9xn"
      },
      "outputs": [],
      "source": [
        "        FUNCTION COOKIE(I,QT1,QT2)\n",
        "\n",
        "C       FUNCTION COOKIE IS USED TO COMPUTE THE MIXING FUNCTION.\n",
        "C       IT IS CALLED BY THE MAIN PROGRAM AND BY SUBROUTINE ADJUST.\n",
        "        DIMENSION X(401),XSQ(401),S(401),DXDS(401),ROP(401),SCOT(401),\n",
        "    1       COOK(401),XI(401),DXIDS(401),ETA(401),ETAPS(401),ETANG(401),\n",
        "    2       RHO(401),OMGAG(401),BETAG(401),ALFAG(401),PSIG(401),EPSG(401),\n",
        "    3       Y(401),Z(401),SH(401)\n",
        "        COMMON X,XSQ,S,DXDX,ROP,SCOT,COOK,XI,DXIDS,ETA,ETAPS,ETANG,RHO,\n",
        "    1       OMGAG,BETAG,ALFAG,PSIG,EPSG,Y,Z,SH\n",
        "        COMMON PI,SQTPI,VIPI,SAY,MODE,M,MP,DELTS,GAMMA,PI3,PI6,PI7,YPOS,\n",
        "    1       YNEG,NPRINT,KT1,KT2,LL,KEND\n",
        "        COMMON LINK,BETH,EXY,EDY,N2,N22,NW,SW,SWA,BETAW,BETAWA,MACK,MIKE,\n",
        "    1       SCRIT,SCRITA,LK,LKA,CRISS,CROSS,YST,AMU,THETA,KBD,MCD,MZET\n",
        "\n",
        "        ZAQ=SQRT(GAMMA*MIN1F(PI6,1.0))\n",
        "        GO TO (100,200),MODE\n",
        "    100 COOKIE=QT1*X(I)*EXPF(ZAQ*(1.0-1.0/X(I)))+QT2*XSQ(I)\n",
        "        RETURN\n",
        "    200 ROXI=SQRTF(X(I))\n",
        "        COOKIE=QT1*ROXI*EXPF(ZAQ*(1.0-1.O/X(I)))+QT2*X(I)\n",
        "        RETURN\n",
        "        END\n"
      ]
    }
  ]
}